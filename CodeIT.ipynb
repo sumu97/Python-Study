{
  "nbformat": 4,
  "nbformat_minor": 0,
  "metadata": {
    "colab": {
      "name": "CodeIT.ipynb",
      "provenance": [],
      "authorship_tag": "ABX9TyP7r2reG+jbJ+ccdAfPsTFf",
      "include_colab_link": true
    },
    "kernelspec": {
      "name": "python3",
      "display_name": "Python 3"
    },
    "language_info": {
      "name": "python"
    }
  },
  "cells": [
    {
      "cell_type": "markdown",
      "metadata": {
        "id": "view-in-github",
        "colab_type": "text"
      },
      "source": [
        "<a href=\"https://colab.research.google.com/github/sumu97/Python-Study/blob/main/CodeIT.ipynb\" target=\"_parent\"><img src=\"https://colab.research.google.com/assets/colab-badge.svg\" alt=\"Open In Colab\"/></a>"
      ]
    },
    {
      "cell_type": "markdown",
      "source": [
        "# CodeIT 알고리즘 문제 풀이"
      ],
      "metadata": {
        "id": "4tnpvF9yZ8qE"
      }
    },
    {
      "cell_type": "markdown",
      "source": [
        "1. 팔린드롬 문제"
      ],
      "metadata": {
        "id": "_UQEckLQaE2V"
      }
    },
    {
      "cell_type": "code",
      "execution_count": 2,
      "metadata": {
        "colab": {
          "base_uri": "https://localhost:8080/"
        },
        "id": "tIyMu57tZ5tH",
        "outputId": "33a63fcf-f29f-4dac-87f3-ddce69b16b10"
      },
      "outputs": [
        {
          "output_type": "stream",
          "name": "stdout",
          "text": [
            "True\n",
            "False\n",
            "True\n",
            "True\n",
            "False\n"
          ]
        }
      ],
      "source": [
        "def is_palindrome(word):\n",
        "    if word == word[::-1]: # 문자열 로꾸꺼 한글자씩\n",
        "        return True\n",
        "    else:\n",
        "        return False\n",
        "\n",
        "# 테스트\n",
        "print(is_palindrome(\"racecar\"))\n",
        "print(is_palindrome(\"stars\"))\n",
        "print(is_palindrome(\"토마토\"))\n",
        "print(is_palindrome(\"kayak\"))\n",
        "print(is_palindrome(\"hello\"))"
      ]
    },
    {
      "cell_type": "code",
      "source": [
        ""
      ],
      "metadata": {
        "id": "7CKCswwHaN02"
      },
      "execution_count": null,
      "outputs": []
    }
  ]
}