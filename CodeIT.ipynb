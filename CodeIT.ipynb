{
  "nbformat": 4,
  "nbformat_minor": 0,
  "metadata": {
    "colab": {
      "name": "CodeIT.ipynb",
      "provenance": [],
      "collapsed_sections": [],
      "authorship_tag": "ABX9TyNXM6uGGMVwVurRn7OGNTOX",
      "include_colab_link": true
    },
    "kernelspec": {
      "name": "python3",
      "display_name": "Python 3"
    },
    "language_info": {
      "name": "python"
    }
  },
  "cells": [
    {
      "cell_type": "markdown",
      "metadata": {
        "id": "view-in-github",
        "colab_type": "text"
      },
      "source": [
        "<a href=\"https://colab.research.google.com/github/sumu97/Python-Study/blob/main/CodeIT.ipynb\" target=\"_parent\"><img src=\"https://colab.research.google.com/assets/colab-badge.svg\" alt=\"Open In Colab\"/></a>"
      ]
    },
    {
      "cell_type": "markdown",
      "source": [
        "# CodeIT 알고리즘 문제 풀이"
      ],
      "metadata": {
        "id": "4tnpvF9yZ8qE"
      }
    },
    {
      "cell_type": "markdown",
      "source": [
        "1. 선수 과제"
      ],
      "metadata": {
        "id": "_UQEckLQaE2V"
      }
    },
    {
      "cell_type": "code",
      "execution_count": null,
      "metadata": {
        "colab": {
          "base_uri": "https://localhost:8080/"
        },
        "id": "tIyMu57tZ5tH",
        "outputId": "33a63fcf-f29f-4dac-87f3-ddce69b16b10"
      },
      "outputs": [
        {
          "output_type": "stream",
          "name": "stdout",
          "text": [
            "True\n",
            "False\n",
            "True\n",
            "True\n",
            "False\n"
          ]
        }
      ],
      "source": [
        "def is_palindrome(word):\n",
        "    if word == word[::-1]: # 문자열 로꾸꺼 한글자씩\n",
        "        return True\n",
        "    else:\n",
        "        return False\n",
        "\n",
        "# 테스트\n",
        "print(is_palindrome(\"racecar\"))\n",
        "print(is_palindrome(\"stars\"))\n",
        "print(is_palindrome(\"토마토\"))\n",
        "print(is_palindrome(\"kayak\"))\n",
        "print(is_palindrome(\"hello\"))"
      ]
    },
    {
      "cell_type": "markdown",
      "source": [
        "2. 선형 탐색"
      ],
      "metadata": {
        "id": "BbfnJ8kKcA9K"
      }
    },
    {
      "cell_type": "code",
      "source": [
        "def linear_search(element, some_list):\n",
        "    cnt = 0\n",
        "    for i in some_list:\n",
        "      if i == element:\n",
        "        return cnt\n",
        "      cnt += 1\n",
        "    return None\n",
        "\n",
        "print(linear_search(2, [2, 3, 5, 7, 11]))\n",
        "print(linear_search(0, [2, 3, 5, 7, 11]))\n",
        "print(linear_search(5, [2, 3, 5, 7, 11]))\n",
        "print(linear_search(3, [2, 3, 5, 7, 11]))\n",
        "print(linear_search(11, [2, 3, 5, 7, 11]))"
      ],
      "metadata": {
        "colab": {
          "base_uri": "https://localhost:8080/"
        },
        "id": "7CKCswwHaN02",
        "outputId": "83e0df97-481f-4531-a537-6101bfcbb4c6"
      },
      "execution_count": null,
      "outputs": [
        {
          "output_type": "stream",
          "name": "stdout",
          "text": [
            "0\n",
            "None\n",
            "2\n",
            "1\n",
            "4\n"
          ]
        }
      ]
    },
    {
      "cell_type": "markdown",
      "source": [
        "3. 이진 탐색"
      ],
      "metadata": {
        "id": "DdAaeZRzc82F"
      }
    },
    {
      "cell_type": "markdown",
      "source": [
        "무지성 풀이"
      ],
      "metadata": {
        "id": "O6O2F0DzYL0d"
      }
    },
    {
      "cell_type": "code",
      "source": [
        "def binary_search(element, some_list):\n",
        "  add = 0\n",
        "  while True:\n",
        "    mid = len(some_list)//2\n",
        "    if len(some_list) == 0:\n",
        "      return None\n",
        "    #print(some_list,mid)\n",
        "    if some_list[mid] == element:\n",
        "      #print('[T0]',some_list,mid)\n",
        "      return mid+add\n",
        "\n",
        "    elif some_list[mid] > element:\n",
        "      some_list = some_list[0:mid]\n",
        "      #print('[T1]',some_list,mid)\n",
        "    elif some_list[mid] < element:\n",
        "      add += len(some_list)//2+1\n",
        "      some_list = some_list[mid+1:]\n",
        "      #print('[T2]',some_list,mid)\n",
        "\n",
        "\n",
        "print(binary_search(2, [2, 3, 5, 7, 11]))\n",
        "print(binary_search(0, [2, 3, 5, 7, 11]))\n",
        "print(binary_search(5, [2, 3, 5, 7, 11]))\n",
        "print(binary_search(3, [2, 3, 5, 7, 11]))\n",
        "print(binary_search(11, [2, 3, 5, 7, 11]))"
      ],
      "metadata": {
        "colab": {
          "base_uri": "https://localhost:8080/"
        },
        "id": "zc1SX-Vyc96v",
        "outputId": "ae08d668-b119-4628-b0d4-3d518afa60ae"
      },
      "execution_count": null,
      "outputs": [
        {
          "output_type": "stream",
          "name": "stdout",
          "text": [
            "0\n",
            "None\n",
            "2\n",
            "1\n",
            "4\n"
          ]
        }
      ]
    },
    {
      "cell_type": "markdown",
      "source": [
        "개선"
      ],
      "metadata": {
        "id": "H51jF5XBYOH4"
      }
    },
    {
      "cell_type": "code",
      "source": [
        "def binary_search(element, some_list):\n",
        "  start = range(len(some_list))[0]\n",
        "  end = range(len(some_list))[-1]\n",
        "  while start <= end:\n",
        "    mid = (start + end) // 2\n",
        "    if some_list[mid] == element:\n",
        "      return mid\n",
        "    elif some_list[mid] > element:\n",
        "      end = mid - 1\n",
        "    elif some_list[mid] < element:\n",
        "      start = mid + 1\n",
        "  return None\n",
        "\n",
        "print(binary_search(2, [2, 3, 5, 7, 11]))\n",
        "print(binary_search(0, [2, 3, 5, 7, 11]))\n",
        "print(binary_search(5, [2, 3, 5, 7, 11]))\n",
        "print(binary_search(3, [2, 3, 5, 7, 11]))\n",
        "print(binary_search(11, [2, 3, 5, 7, 11]))"
      ],
      "metadata": {
        "colab": {
          "base_uri": "https://localhost:8080/"
        },
        "id": "m_RLvi27UDrI",
        "outputId": "5e7a4edc-c4fa-4745-8799-8bff506d5d3f"
      },
      "execution_count": null,
      "outputs": [
        {
          "output_type": "stream",
          "name": "stdout",
          "text": [
            "0\n",
            "None\n",
            "2\n",
            "1\n",
            "4\n"
          ]
        }
      ]
    },
    {
      "cell_type": "markdown",
      "source": [
        "재귀로 구현하려면 리스트를 돌려주는 방식으로 하면 될 듯? some_list 자체를 줄여나가는 방식으로"
      ],
      "metadata": {
        "id": "wcriEhXjYcmm"
      }
    },
    {
      "cell_type": "code",
      "source": [
        "def binary_search(element, some_list):\n",
        "  mid = len(some_list)//2\n",
        "  if some_list[mid] == element:\n",
        "    return mid # + 재귀된 횟수?\n",
        "  if len(some_list) == 0:\n",
        "    return None\n",
        "  print('[T1]',some_list,mid)\n",
        "  if len(some_list) == 1:\n",
        "    return mid\n",
        "  elif mid > element:\n",
        "    binary_search(element, some_list[0:mid-1])\n",
        "  elif mid < element:\n",
        "    binary_search(element, some_list[mid+1:])\n",
        "\n",
        "\n",
        "print(binary_search(2, [2, 3, 5, 7, 11]))\n",
        "print(binary_search(0, [2, 3, 5, 7, 11]))\n",
        "print(binary_search(5, [2, 3, 5, 7, 11]))\n",
        "#print(binary_search(3, [2, 3, 5, 7, 11]))\n",
        "#print(binary_search(11, [2, 3, 5, 7, 11]))"
      ],
      "metadata": {
        "colab": {
          "base_uri": "https://localhost:8080/"
        },
        "id": "3nukrtwzYhdq",
        "outputId": "7a89bfd0-c3f3-4f54-d815-32b61595f615"
      },
      "execution_count": null,
      "outputs": [
        {
          "output_type": "stream",
          "name": "stdout",
          "text": [
            "[T1] [2, 3, 5, 7, 11] 2\n",
            "None\n",
            "[T1] [2, 3, 5, 7, 11] 2\n",
            "[T1] [2] 0\n",
            "None\n",
            "2\n"
          ]
        }
      ]
    }
  ]
}