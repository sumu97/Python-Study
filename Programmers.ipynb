{
  "nbformat": 4,
  "nbformat_minor": 0,
  "metadata": {
    "colab": {
      "name": "Programmers",
      "provenance": [],
      "authorship_tag": "ABX9TyNeLhiYagVy1HdV5WxYPhHG",
      "include_colab_link": true
    },
    "kernelspec": {
      "name": "python3",
      "display_name": "Python 3"
    },
    "language_info": {
      "name": "python"
    }
  },
  "cells": [
    {
      "cell_type": "markdown",
      "metadata": {
        "id": "view-in-github",
        "colab_type": "text"
      },
      "source": [
        "<a href=\"https://colab.research.google.com/github/sumu97/Python-Study/blob/main/Programmers.ipynb\" target=\"_parent\"><img src=\"https://colab.research.google.com/assets/colab-badge.svg\" alt=\"Open In Colab\"/></a>"
      ]
    },
    {
      "cell_type": "markdown",
      "metadata": {
        "id": "henJHCPUXNlz"
      },
      "source": [
        "# K번째 수"
      ]
    },
    {
      "cell_type": "markdown",
      "metadata": {
        "id": "WX7468zQXTUy"
      },
      "source": [
        "i 번째 숫자부터 j 번째 숫자까지 자르고 정렬했을 때, k번째 수를 구해야 함. \\\n",
        "단순한 문자열 분리 문제인듯?"
      ]
    },
    {
      "cell_type": "code",
      "metadata": {
        "colab": {
          "base_uri": "https://localhost:8080/"
        },
        "id": "goIhiP-9XLz-",
        "outputId": "adf8feaf-d0ba-4821-f588-544c2e077cde"
      },
      "source": [
        "def solution(array, commands):\n",
        "    answer = []\n",
        "    temp_array = []\n",
        "    for c in commands: ## c = [2, 5, 3]\n",
        "      ta = array\n",
        "      ta = list(set(ta[c[0]-1:]) & set(ta[:c[1]]))\n",
        "      ta.sort()\n",
        "      print(\"만들어진 리스트 :\",ta,\"\\n번호 :\",c[2], \"\\n값 :\",ta[c[2]-1])\n",
        "      answer.append(ta[c[2]-1])\n",
        "    return answer\n",
        "\n",
        "\n",
        "array = [1, 5, 2, 6, 3, 7, 4]\n",
        "commands = [[2, 5, 3], [4, 4, 1], [1, 7, 3]]\t\n",
        "solution(array, commands)"
      ],
      "execution_count": 61,
      "outputs": [
        {
          "output_type": "stream",
          "name": "stdout",
          "text": [
            "만들어진 리스트 : [2, 3, 5, 6] \n",
            "번호 : 3 \n",
            "값 : 5\n",
            "만들어진 리스트 : [6] \n",
            "번호 : 1 \n",
            "값 : 6\n",
            "만들어진 리스트 : [1, 2, 3, 4, 5, 6, 7] \n",
            "번호 : 3 \n",
            "값 : 3\n"
          ]
        },
        {
          "output_type": "execute_result",
          "data": {
            "text/plain": [
              "[5, 6, 3]"
            ]
          },
          "metadata": {},
          "execution_count": 61
        }
      ]
    },
    {
      "cell_type": "code",
      "metadata": {
        "id": "B3YU11RUZDwk"
      },
      "source": [
        ""
      ],
      "execution_count": null,
      "outputs": []
    }
  ]
}