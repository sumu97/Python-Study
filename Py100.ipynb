{
  "nbformat": 4,
  "nbformat_minor": 0,
  "metadata": {
    "colab": {
      "name": "Py100.ipynb",
      "provenance": []
    },
    "kernelspec": {
      "name": "python3",
      "display_name": "Python 3"
    },
    "language_info": {
      "name": "python"
    }
  },
  "cells": [
    {
      "cell_type": "markdown",
      "metadata": {
        "id": "7X2fIjm2r_0-"
      },
      "source": [
        "# **코드업** 100제 풀이"
      ]
    },
    {
      "cell_type": "markdown",
      "metadata": {
        "id": "vatrCJ2vp47s"
      },
      "source": [
        "3항 연산 - 정수 2개 입력받아 큰 값 출력하기"
      ]
    },
    {
      "cell_type": "code",
      "metadata": {
        "colab": {
          "base_uri": "https://localhost:8080/"
        },
        "id": "WB9XsXWAgukS",
        "outputId": "b443c24a-9a92-4a52-e544-ab655bc5cae8"
      },
      "source": [
        "a, b = input().split()\n",
        "a = int(a)\n",
        "b = int(b)\n",
        "c = (a if (a>=b) else b)\n",
        "print(int(c))"
      ],
      "execution_count": null,
      "outputs": [
        {
          "output_type": "stream",
          "name": "stdout",
          "text": [
            "123 456\n",
            "456\n"
          ]
        }
      ]
    },
    {
      "cell_type": "markdown",
      "metadata": {
        "id": "QriBLiFgqEkN"
      },
      "source": [
        "3항 연산 - 정수 3개 입력받아 가장 작은 값 출력하기"
      ]
    },
    {
      "cell_type": "code",
      "metadata": {
        "colab": {
          "base_uri": "https://localhost:8080/"
        },
        "id": "17HtNvlbqHNv",
        "outputId": "5a039830-a34f-469d-8628-ea2606ab7386"
      },
      "source": [
        "a, b, c = input().split()\n",
        "a = int(a)\n",
        "b = int(b)\n",
        "c = int(c)\n",
        "d = (a if (a<=b) else b ) if ((a if (a<=b) else b ) <= c) else c\n",
        "print(int(d))"
      ],
      "execution_count": null,
      "outputs": [
        {
          "output_type": "stream",
          "name": "stdout",
          "text": [
            "3 -1 5\n",
            "-1\n"
          ]
        }
      ]
    },
    {
      "cell_type": "markdown",
      "metadata": {
        "id": "4vPvu0w1r3yr"
      },
      "source": [
        "선택실행구조 - 정수 3개 입력받아 짝수만 출력하기 "
      ]
    },
    {
      "cell_type": "code",
      "metadata": {
        "colab": {
          "base_uri": "https://localhost:8080/"
        },
        "id": "12oT8kS5qYmM",
        "outputId": "31163673-4e8d-4774-e5fc-d877cb46ec2f"
      },
      "source": [
        "a, b, c = input().split()\n",
        "a = int(a)\n",
        "b = int(b)\n",
        "c = int(c)\n",
        "\n",
        "if a%2 == 0:\n",
        "  print(a)\n",
        "if b%2 == 0:\n",
        "  print(b)\n",
        "if c%2 == 0:\n",
        "  print(c)"
      ],
      "execution_count": null,
      "outputs": [
        {
          "output_type": "stream",
          "name": "stdout",
          "text": [
            "1 4 8\n",
            "4\n",
            "8\n"
          ]
        }
      ]
    },
    {
      "cell_type": "markdown",
      "metadata": {
        "id": "hqx3tvXeszMb"
      },
      "source": [
        "선택실행구조 - 정수 3개 입력받아 짝/홀 출력하기"
      ]
    },
    {
      "cell_type": "code",
      "metadata": {
        "colab": {
          "base_uri": "https://localhost:8080/"
        },
        "id": "zsXLWRGYskgB",
        "outputId": "d1ba2139-83ae-4f3f-bbe4-47912155f346"
      },
      "source": [
        "a, b, c = input().split()\n",
        "a = int(a)\n",
        "b = int(b)\n",
        "c = int(c)\n",
        "\n",
        "if a%2 == 0:\n",
        "  print('even')\n",
        "else:\n",
        "  print('odd')\n",
        "\n",
        "if b%2 == 0:\n",
        "  print('even')\n",
        "else:\n",
        "  print('odd')\n",
        "  \n",
        "if c%2 == 0:\n",
        "  print('even')\n",
        "else:\n",
        "  print('odd')"
      ],
      "execution_count": null,
      "outputs": [
        {
          "output_type": "stream",
          "name": "stdout",
          "text": [
            "1 2 8\n",
            "odd\n",
            "even\n",
            "even\n"
          ]
        }
      ]
    },
    {
      "cell_type": "markdown",
      "metadata": {
        "id": "4VcfScrIt2zp"
      },
      "source": [
        "선택실행구조 - 정수 1개 입력받아 분류하기"
      ]
    },
    {
      "cell_type": "code",
      "metadata": {
        "colab": {
          "base_uri": "https://localhost:8080/"
        },
        "id": "bxURS7j-tO6a",
        "outputId": "ba0916be-7318-4179-d31f-4193db63ebe2"
      },
      "source": [
        "a = input()\n",
        "a = int(a)\n",
        "if a < 0:\n",
        "  if a%2 == 0:\n",
        "    print('A')\n",
        "  else:\n",
        "    print('B')\n",
        "else:\n",
        "  if a%2 == 0:\n",
        "    print('C')\n",
        "  else:\n",
        "    print('D')"
      ],
      "execution_count": null,
      "outputs": [
        {
          "output_type": "stream",
          "name": "stdout",
          "text": [
            "-2147483648\n",
            "A\n"
          ]
        }
      ]
    },
    {
      "cell_type": "markdown",
      "metadata": {
        "id": "2xitaWyuudal"
      },
      "source": [
        "선택실행구조 - 점수 입력받아 평가 출력하기"
      ]
    },
    {
      "cell_type": "code",
      "metadata": {
        "colab": {
          "base_uri": "https://localhost:8080/"
        },
        "id": "_dAGciT_uV43",
        "outputId": "8de7146c-a5ed-4106-b062-82c5fb85b2bc"
      },
      "source": [
        "a = input()\n",
        "a = int(a)\n",
        "if a >= 90:\n",
        "  print('A')\n",
        "else:\n",
        "  if a >=70:\n",
        "    print('B')\n",
        "  else:\n",
        "    if a >= 40:\n",
        "      print('C')\n",
        "    else:\n",
        "      print('D')"
      ],
      "execution_count": null,
      "outputs": [
        {
          "output_type": "stream",
          "name": "stdout",
          "text": [
            "73\n",
            "B\n"
          ]
        }
      ]
    },
    {
      "cell_type": "markdown",
      "metadata": {
        "id": "vth_rEEhu8lx"
      },
      "source": [
        "선택실행구조 - 평가 입력받아 다르게 출력하기"
      ]
    },
    {
      "cell_type": "code",
      "metadata": {
        "colab": {
          "base_uri": "https://localhost:8080/"
        },
        "id": "Rl2Z1DT2vc1e",
        "outputId": "68a51d0e-db9f-4004-ba0b-d13497c48d76"
      },
      "source": [
        "a = input()\n",
        "\n",
        "if a == 'A':\n",
        "  print('best!!!')\n",
        "else:\n",
        "  if a == 'B':\n",
        "    print('good!!')\n",
        "  else:\n",
        "    if a == 'C':\n",
        "      print('run!')\n",
        "    else:\n",
        "      if a == 'D':\n",
        "        print('slowly~')\n",
        "      else:\n",
        "        print('what?')"
      ],
      "execution_count": null,
      "outputs": [
        {
          "output_type": "stream",
          "name": "stdout",
          "text": [
            "A\n",
            "best!!!\n"
          ]
        }
      ]
    },
    {
      "cell_type": "markdown",
      "metadata": {
        "id": "do0xz04hwUqF"
      },
      "source": [
        "선택실행구조 - 월 입력받아 계절 출력하기"
      ]
    },
    {
      "cell_type": "code",
      "metadata": {
        "colab": {
          "base_uri": "https://localhost:8080/"
        },
        "id": "hI2X746cwaQT",
        "outputId": "f66dd6f3-dca9-4ee7-8040-cd19020d29ca"
      },
      "source": [
        "a = input()\n",
        "a = int(a)\n",
        "\n",
        "if a == 12 or a<=2:\n",
        "  print('winter')\n",
        "else:\n",
        "  if a <=5:\n",
        "    print('spring')\n",
        "  else:\n",
        "    if a <= 8:\n",
        "      print('summer')\n",
        "    else:\n",
        "      print('fall')"
      ],
      "execution_count": null,
      "outputs": [
        {
          "output_type": "stream",
          "name": "stdout",
          "text": [
            "6\n",
            "summer\n"
          ]
        }
      ]
    },
    {
      "cell_type": "markdown",
      "metadata": {
        "id": "hlGv5wJ7xFfr"
      },
      "source": [
        "반복실행구조 - 0 입력될 때까지 무한 출력하기"
      ]
    },
    {
      "cell_type": "code",
      "metadata": {
        "colab": {
          "base_uri": "https://localhost:8080/"
        },
        "id": "kKEGoL5Hw9Qx",
        "outputId": "2c7ba3fa-7ab1-4b06-8798-ee38377fab4e"
      },
      "source": [
        "n = 1\n",
        "while n != 0:\n",
        "  n = int(input())\n",
        "  if n != 0:\n",
        "    print(n)"
      ],
      "execution_count": null,
      "outputs": [
        {
          "name": "stdout",
          "output_type": "stream",
          "text": [
            "7\n",
            "7\n",
            "4\n",
            "4\n",
            "2\n",
            "2\n",
            "3\n",
            "3\n",
            "0\n"
          ]
        }
      ]
    },
    {
      "cell_type": "markdown",
      "metadata": {
        "id": "yWs1IXWqx23-"
      },
      "source": [
        "반복실행구조 - 정수 1개 입력받아 카운트다운 출력하기 1"
      ]
    },
    {
      "cell_type": "code",
      "metadata": {
        "colab": {
          "base_uri": "https://localhost:8080/"
        },
        "id": "aQx_h-dQxZnf",
        "outputId": "c5c07728-c804-431a-e38d-195d9a145306"
      },
      "source": [
        "a = input()\n",
        "a = int(a)\n",
        "\n",
        "while a != 0:\n",
        "  print(a)\n",
        "  a -= 1"
      ],
      "execution_count": null,
      "outputs": [
        {
          "output_type": "stream",
          "name": "stdout",
          "text": [
            "5\n",
            "5\n",
            "4\n",
            "3\n",
            "2\n",
            "1\n"
          ]
        }
      ]
    },
    {
      "cell_type": "markdown",
      "metadata": {
        "id": "A1hBCn5ZzJPc"
      },
      "source": [
        "반복실행구조 - 정수 1개 입력받아 카운트다운 출력하기 2"
      ]
    },
    {
      "cell_type": "code",
      "metadata": {
        "colab": {
          "base_uri": "https://localhost:8080/"
        },
        "id": "BKg_DI0DyEzv",
        "outputId": "465ac410-4b7c-4277-e519-ae5d54cefa8f"
      },
      "source": [
        "a = input()\n",
        "a = int(a)\n",
        "\n",
        "while a != 0:\n",
        "  a -= 1\n",
        "  print(a)"
      ],
      "execution_count": null,
      "outputs": [
        {
          "output_type": "stream",
          "name": "stdout",
          "text": [
            "5\n",
            "4\n",
            "3\n",
            "2\n",
            "1\n",
            "0\n"
          ]
        }
      ]
    },
    {
      "cell_type": "markdown",
      "metadata": {
        "id": "VXDrk47yzfN8"
      },
      "source": [
        "반복실행구조 - 문자 1개 입력받아 알파벳 출력하기"
      ]
    },
    {
      "cell_type": "code",
      "metadata": {
        "colab": {
          "base_uri": "https://localhost:8080/"
        },
        "id": "vKVP2oAbzYnd",
        "outputId": "fcdaab23-a3f5-4a53-ca07-eea3825326c4"
      },
      "source": [
        "s = ord(input()) # 문자열을 정수값으로\n",
        "t = ord('a')\n",
        "while t <= s:\n",
        "  print(chr(t), end=' ') # 정수값을 문자열으로, 뒤에 공백 추가\n",
        "  t += 1\n"
      ],
      "execution_count": null,
      "outputs": [
        {
          "output_type": "stream",
          "name": "stdout",
          "text": [
            "o\n",
            "a b c d e f g h i j k l m n o "
          ]
        }
      ]
    },
    {
      "cell_type": "markdown",
      "metadata": {
        "id": "QSDmqj7e3F_S"
      },
      "source": [
        "반복실행구조 - 정수 1개 입력받아 그 수까지 출력하기"
      ]
    },
    {
      "cell_type": "code",
      "metadata": {
        "colab": {
          "base_uri": "https://localhost:8080/"
        },
        "id": "hzxcVkl72m4h",
        "outputId": "dfe2393e-61de-49c0-98c1-10714c5d644f"
      },
      "source": [
        "n = input()\n",
        "n = int(n)\n",
        "st = 0\n",
        "while st <= n:\n",
        "  print(st)\n",
        "  st += 1"
      ],
      "execution_count": null,
      "outputs": [
        {
          "output_type": "stream",
          "name": "stdout",
          "text": [
            "4\n",
            "0\n",
            "1\n",
            "2\n",
            "3\n",
            "4\n"
          ]
        }
      ]
    },
    {
      "cell_type": "markdown",
      "metadata": {
        "id": "q0wrIpv64bjp"
      },
      "source": [
        "반복실행구조 - 정수 1개 입력받아 그 수까지 출력하기 2"
      ]
    },
    {
      "cell_type": "code",
      "metadata": {
        "colab": {
          "base_uri": "https://localhost:8080/"
        },
        "id": "BU6bxQH94XzD",
        "outputId": "65724ec5-c096-4126-de1e-1e762044cd7d"
      },
      "source": [
        "n = int(input())\n",
        "\n",
        "for i in range(n+1):\n",
        "  print(i)"
      ],
      "execution_count": null,
      "outputs": [
        {
          "output_type": "stream",
          "name": "stdout",
          "text": [
            "4\n",
            "0\n",
            "1\n",
            "2\n",
            "3\n",
            "4\n"
          ]
        }
      ]
    },
    {
      "cell_type": "markdown",
      "metadata": {
        "id": "yXDopnsF4rye"
      },
      "source": [
        "종합 - 짝수 합 구하기"
      ]
    },
    {
      "cell_type": "code",
      "metadata": {
        "colab": {
          "base_uri": "https://localhost:8080/"
        },
        "id": "ieszhFBV3l6b",
        "outputId": "d02aa6e8-f467-4973-b903-0d6a872975f2"
      },
      "source": [
        "n = int(input())\n",
        "s = 0\n",
        "for i in range(n+1):\n",
        "  if i%2 == 0:\n",
        "    s += i\n",
        "\n",
        "print(s)"
      ],
      "execution_count": null,
      "outputs": [
        {
          "output_type": "stream",
          "name": "stdout",
          "text": [
            "5\n",
            "6\n"
          ]
        }
      ]
    },
    {
      "cell_type": "markdown",
      "metadata": {
        "id": "Xw93oWK15G2H"
      },
      "source": [
        "종합 - 원하는 문자가 입력될 때 까지 반복 출력하기"
      ]
    },
    {
      "cell_type": "code",
      "metadata": {
        "colab": {
          "base_uri": "https://localhost:8080/"
        },
        "id": "zJ39_J7O5BA0",
        "outputId": "20571c8c-7e5c-42bd-b5f9-b6731da15c00"
      },
      "source": [
        "n = 0\n",
        "while n != 'q':\n",
        "  n = input()\n",
        "  print(n)"
      ],
      "execution_count": null,
      "outputs": [
        {
          "output_type": "stream",
          "name": "stdout",
          "text": [
            "x\n",
            "x\n",
            "b\n",
            "b\n",
            "k\n",
            "k\n",
            "d\n",
            "d\n",
            "l\n",
            "l\n",
            "q\n",
            "q\n"
          ]
        }
      ]
    },
    {
      "cell_type": "markdown",
      "metadata": {
        "id": "uJp1reLi7AwO"
      },
      "source": [
        "종합 - 언제까지 더해야 할까?"
      ]
    },
    {
      "cell_type": "code",
      "metadata": {
        "colab": {
          "base_uri": "https://localhost:8080/"
        },
        "id": "VAg1u3ci59Yf",
        "outputId": "c7389a73-3b71-46a2-878e-acd4622ed4b1"
      },
      "source": [
        "n = int(input())\n",
        "p = 1\n",
        "b = 1\n",
        "while n >= p:\n",
        "  p += b\n",
        "  b += 1\n",
        "print(b-1)"
      ],
      "execution_count": null,
      "outputs": [
        {
          "output_type": "stream",
          "name": "stdout",
          "text": [
            "54\n",
            "10\n"
          ]
        }
      ]
    },
    {
      "cell_type": "markdown",
      "metadata": {
        "id": "OdK3qavN99Ee"
      },
      "source": [
        "종합 - 주사위 2개 던지기"
      ]
    },
    {
      "cell_type": "code",
      "metadata": {
        "colab": {
          "base_uri": "https://localhost:8080/"
        },
        "id": "8KIs8zki73BQ",
        "outputId": "b45b0b55-e137-4543-d93f-8c43ec21d7b1"
      },
      "source": [
        "n, m = input().split()\n",
        "n = int(n)\n",
        "m = int(m)\n",
        "for i in range(1,n+1):\n",
        "  for l in range(1,m+1):\n",
        "    print(i,l)"
      ],
      "execution_count": null,
      "outputs": [
        {
          "output_type": "stream",
          "name": "stdout",
          "text": [
            "2 3\n",
            "1 1\n",
            "1 2\n",
            "1 3\n",
            "2 1\n",
            "2 2\n",
            "2 3\n"
          ]
        }
      ]
    },
    {
      "cell_type": "markdown",
      "metadata": {
        "id": "tmjJPfleAGV6"
      },
      "source": [
        "종합 - 16진수 구구단 출력하기"
      ]
    },
    {
      "cell_type": "code",
      "metadata": {
        "colab": {
          "base_uri": "https://localhost:8080/"
        },
        "id": "nBI8IxtvE7k3",
        "outputId": "a766dc46-5d02-4d45-8ba7-ccb35a1b907f"
      },
      "source": [
        "n = input()\n",
        "n = int(n,16)\n",
        "m = int(16)\n",
        "for l in range(1,m):\n",
        "  print('%X'%n,'*','%X'%l,'=%X'%(n*l),sep=\"\")"
      ],
      "execution_count": null,
      "outputs": [
        {
          "output_type": "stream",
          "name": "stdout",
          "text": [
            "B\n",
            "B*1=B\n",
            "B*2=16\n",
            "B*3=21\n",
            "B*4=2C\n",
            "B*5=37\n",
            "B*6=42\n",
            "B*7=4D\n",
            "B*8=58\n",
            "B*9=63\n",
            "B*A=6E\n",
            "B*B=79\n",
            "B*C=84\n",
            "B*D=8F\n",
            "B*E=9A\n",
            "B*F=A5\n"
          ]
        }
      ]
    },
    {
      "cell_type": "markdown",
      "metadata": {
        "id": "7JzBEzQ0b8Tn"
      },
      "source": [
        "종합 - 3 6 9 게임의 왕이 되자"
      ]
    },
    {
      "cell_type": "code",
      "metadata": {
        "colab": {
          "base_uri": "https://localhost:8080/"
        },
        "id": "RnsD9uMIkIOK",
        "outputId": "9d047a62-f6e8-4519-e7be-98fc014914ef"
      },
      "source": [
        "n = input()\n",
        "for i in range(1,int(n)+1):\n",
        "  l = i%10\n",
        "  i = i//10\n",
        "  a = 0\n",
        "  b = 0\n",
        "  if l == 3:\n",
        "    a += 1\n",
        "  elif l == 6:\n",
        "    a += 1\n",
        "  elif l == 9:\n",
        "    a += 1\n",
        "  else:\n",
        "    b = l\n",
        "\n",
        "  if i == 3:\n",
        "    a += 1\n",
        "  elif i == 6:\n",
        "    a += 1\n",
        "  elif i == 9:\n",
        "    a += 1\n",
        "  elif a == 0:\n",
        "    b = b + 10 * i\n",
        "    print(b)\n",
        "\n",
        "  if a == 1:\n",
        "    print('X')\n",
        "  elif a == 2:\n",
        "    print('XX')"
      ],
      "execution_count": null,
      "outputs": [
        {
          "output_type": "stream",
          "name": "stdout",
          "text": [
            "45\n",
            "1\n",
            "2\n",
            "X\n",
            "4\n",
            "5\n",
            "X\n",
            "7\n",
            "8\n",
            "X\n",
            "10\n",
            "11\n",
            "12\n",
            "X\n",
            "14\n",
            "15\n",
            "X\n",
            "17\n",
            "18\n",
            "X\n",
            "20\n",
            "21\n",
            "22\n",
            "X\n",
            "24\n",
            "25\n",
            "X\n",
            "27\n",
            "28\n",
            "X\n",
            "X\n",
            "X\n",
            "X\n",
            "XX\n",
            "X\n",
            "X\n",
            "XX\n",
            "X\n",
            "X\n",
            "XX\n",
            "40\n",
            "41\n",
            "42\n",
            "X\n",
            "44\n",
            "45\n"
          ]
        }
      ]
    },
    {
      "cell_type": "markdown",
      "metadata": {
        "id": "zqm72luvn6Gu"
      },
      "source": [
        "종합 - 빛 섞어 색 만들기"
      ]
    },
    {
      "cell_type": "code",
      "metadata": {
        "colab": {
          "base_uri": "https://localhost:8080/"
        },
        "id": "PRRNwPDwd2O-",
        "outputId": "2d15b821-4e3b-4739-b13a-8e4d2fdff687"
      },
      "source": [
        "r, g, b = input().split()\n",
        "r = int(r)\n",
        "g = int(g)\n",
        "b = int(b)\n",
        "n = 0\n",
        "for i1 in range(r):\n",
        "  for i2 in range(g):\n",
        "    for i3 in range(b):\n",
        "      print(i1,i2,i3)\n",
        "      n += 1\n",
        "print(n)"
      ],
      "execution_count": null,
      "outputs": [
        {
          "output_type": "stream",
          "name": "stdout",
          "text": [
            "2 2 2\n",
            "0 0 0\n",
            "0 0 1\n",
            "0 1 0\n",
            "0 1 1\n",
            "1 0 0\n",
            "1 0 1\n",
            "1 1 0\n",
            "1 1 1\n",
            "8\n"
          ]
        }
      ]
    },
    {
      "cell_type": "markdown",
      "metadata": {
        "id": "cBbqIRCco8gX"
      },
      "source": [
        "종합 - 소리 파일 저장용량 계산하기"
      ]
    },
    {
      "cell_type": "code",
      "metadata": {
        "colab": {
          "base_uri": "https://localhost:8080/"
        },
        "id": "KwZSIWiMoUM9",
        "outputId": "d226976b-3147-48e6-8052-d4f47d5029bb"
      },
      "source": [
        "h, b, c, s = input().split()\n",
        "h = int(h)\n",
        "b = int(b)\n",
        "c = int(c)\n",
        "s = int(s)\n",
        "mb = h * b * c * s / 8 / 1024 / 1024\n",
        "print(round(mb,1),'MB',sep=\" \")"
      ],
      "execution_count": null,
      "outputs": [
        {
          "output_type": "stream",
          "name": "stdout",
          "text": [
            "44100 16 2 10\n",
            "1.7 MB\n"
          ]
        }
      ]
    },
    {
      "cell_type": "markdown",
      "metadata": {
        "id": "_YXkEyYyqt3z"
      },
      "source": [
        "종합 - 그림 파일 저장용량 계산하기"
      ]
    },
    {
      "cell_type": "code",
      "metadata": {
        "colab": {
          "base_uri": "https://localhost:8080/"
        },
        "id": "tWe4BcmEqebq",
        "outputId": "faf82be6-a519-4f1d-caf5-d06416f5a578"
      },
      "source": [
        "w, h, b = input().split()\n",
        "w = int(w)\n",
        "h = int(h)\n",
        "b = int(b)\n",
        "\n",
        "mb = w * h * b / 8 / 1024 / 1024\n",
        "\n",
        "print(\"{:.2f} MB\".format(mb))"
      ],
      "execution_count": null,
      "outputs": [
        {
          "output_type": "stream",
          "name": "stdout",
          "text": [
            "100 100 4\n",
            "0.00 MB\n"
          ]
        }
      ]
    },
    {
      "cell_type": "markdown",
      "metadata": {
        "id": "bJnHAGS3uiSx"
      },
      "source": [
        "종합 - 거기까지! 이제 그만 ~"
      ]
    },
    {
      "cell_type": "code",
      "metadata": {
        "colab": {
          "base_uri": "https://localhost:8080/"
        },
        "id": "YXXViurbtUC1",
        "outputId": "0762670c-e09b-4b8e-ad4c-2dca5694c59e"
      },
      "source": [
        "n = int(input())\n",
        "a = 0\n",
        "b = 0\n",
        "while True:\n",
        "  if a >= n:\n",
        "    break\n",
        "\n",
        "  b += 1\n",
        "  a += b\n",
        "\n",
        "print(a)"
      ],
      "execution_count": null,
      "outputs": [
        {
          "output_type": "stream",
          "name": "stdout",
          "text": [
            "1\n",
            "1\n"
          ]
        }
      ]
    },
    {
      "cell_type": "markdown",
      "metadata": {
        "id": "ZdDhkQq0w50r"
      },
      "source": [
        "종합 - 3의 배수는 통과"
      ]
    },
    {
      "cell_type": "code",
      "metadata": {
        "colab": {
          "base_uri": "https://localhost:8080/"
        },
        "id": "3nfhyANrvf1J",
        "outputId": "f2994d35-fea7-4ecd-e56c-a899ba12ffe1"
      },
      "source": [
        "n = int(input())\n",
        "\n",
        "for i in range(1, n+1):\n",
        "  if i%3 == 0:\n",
        "    continue\n",
        "  print(i, end=' ')"
      ],
      "execution_count": null,
      "outputs": [
        {
          "output_type": "stream",
          "name": "stdout",
          "text": [
            "30\n",
            "1 2 4 5 7 8 10 11 13 14 16 17 19 20 22 23 25 26 28 29 "
          ]
        }
      ]
    },
    {
      "cell_type": "markdown",
      "metadata": {
        "id": "OE1t3smixYqS"
      },
      "source": [
        "종합 - 수 나열하기"
      ]
    },
    {
      "cell_type": "code",
      "metadata": {
        "colab": {
          "base_uri": "https://localhost:8080/"
        },
        "id": "ie225y_GxSgW",
        "outputId": "0fbf66e7-fc91-474e-e334-b6bcd5acd2a4"
      },
      "source": [
        "a, d, n = input().split()\n",
        "a = int(a)\n",
        "d = int(d)\n",
        "n = int(n)\n",
        "\n",
        "for i in range(n-1):\n",
        "  a = a + d\n",
        "\n",
        "print(a)"
      ],
      "execution_count": null,
      "outputs": [
        {
          "output_type": "stream",
          "name": "stdout",
          "text": [
            "1 3 5\n",
            "13\n"
          ]
        }
      ]
    },
    {
      "cell_type": "markdown",
      "metadata": {
        "id": "Kiv6jTRoyMyF"
      },
      "source": [
        "종합 - 수 나열하기2"
      ]
    },
    {
      "cell_type": "code",
      "metadata": {
        "colab": {
          "base_uri": "https://localhost:8080/"
        },
        "id": "DDhyizSix_AA",
        "outputId": "77c83c2e-c5c8-489f-e8cd-d2b2b68d95c3"
      },
      "source": [
        "a, d, n = input().split()\n",
        "a = int(a)\n",
        "d = int(d)\n",
        "n = int(n)\n",
        "\n",
        "for i in range(n-1):\n",
        "  a = a * d\n",
        "\n",
        "print(a)"
      ],
      "execution_count": null,
      "outputs": [
        {
          "output_type": "stream",
          "name": "stdout",
          "text": [
            "2 3 7\n",
            "1458\n"
          ]
        }
      ]
    },
    {
      "cell_type": "markdown",
      "metadata": {
        "id": "lPsY23P0ya3S"
      },
      "source": [
        "종합 - 수 나열하기3"
      ]
    },
    {
      "cell_type": "code",
      "metadata": {
        "colab": {
          "base_uri": "https://localhost:8080/"
        },
        "id": "-B5L_rK5ycaT",
        "outputId": "e0d7a64d-a71d-4a64-a428-234b99673426"
      },
      "source": [
        "a, m, d, n = input().split()\n",
        "a = int(a)\n",
        "m = int(m)\n",
        "d = int(d)\n",
        "n = int(n)\n",
        "\n",
        "for i in range(n-1):\n",
        "  a = (a * m) + d\n",
        "print(a)"
      ],
      "execution_count": null,
      "outputs": [
        {
          "output_type": "stream",
          "name": "stdout",
          "text": [
            "1 -2 1 8\n",
            "-85\n"
          ]
        }
      ]
    },
    {
      "cell_type": "markdown",
      "metadata": {
        "id": "3LsdsxJqzIfv"
      },
      "source": [
        "종합 - 함께 문제 푸는 날"
      ]
    },
    {
      "cell_type": "code",
      "metadata": {
        "colab": {
          "base_uri": "https://localhost:8080/"
        },
        "id": "rgVaZqdRyteL",
        "outputId": "0b519870-8e31-4014-89b7-a434c57b2877"
      },
      "source": [
        "a, b, n = input().split()\n",
        "a = int(a)\n",
        "b = int(b)\n",
        "n = int(n)\n",
        "d = 1\n",
        "while True:\n",
        "  if (d%a == 0) and (d%b == 0) and (d%n == 0):\n",
        "    break\n",
        "  d = d + 1\n",
        "print(d)"
      ],
      "execution_count": null,
      "outputs": [
        {
          "output_type": "stream",
          "name": "stdout",
          "text": [
            "3 7 9\n",
            "63\n"
          ]
        }
      ]
    },
    {
      "cell_type": "markdown",
      "metadata": {
        "id": "zgH4NspQ0sH1"
      },
      "source": [
        "리스트 - 이상한 출석 번호 부르기1"
      ]
    },
    {
      "cell_type": "code",
      "metadata": {
        "colab": {
          "base_uri": "https://localhost:8080/"
        },
        "id": "30giR4_g0lr_",
        "outputId": "ab8ada22-f4c2-4b84-c25b-d75c52d3119d"
      },
      "source": [
        "n = int(input())      #개수를 입력받아 n에 정수로 저장\n",
        "a = input().split()  #공백을 기준으로 잘라 a에 순서대로 저장\n",
        "\n",
        "for i in range(n) :  #0부터 n-1까지...\n",
        "  a[i] = int(a[i])       #a에 순서대로 저장되어있는 각 값을 정수로 변환해 다시 저장\n",
        "\n",
        "d = []                     #d라는 이름의 빈 리스트 [ ] 변수를 만듦. 대괄호 기호 [  ] 를 사용한다.\n",
        "for i in range(24) :  #[0, 0, 0, ... , 0, 0, 0] 과 같이 24개의 정수 값 0을 추가해 넣음\n",
        "  d.append(0)        #각 값은 d[0], d[1], d[2], ... , d[22], d[23] 으로 값을 읽고 저장할 수 있음.\n",
        "\n",
        "for i in range(n) :    #번호를 부를 때마다, 그 번호에 대한 카운트 1씩 증가\n",
        "  d[a[i]] += 1\n",
        "\n",
        "for i in range(1, 24) :  #카운트한 값을 공백을 두고 출력\n",
        "  print(d[i], end=' ')"
      ],
      "execution_count": null,
      "outputs": [
        {
          "output_type": "stream",
          "name": "stdout",
          "text": [
            "10\n",
            "1 3 2 2 5 6 7 4 5 9\n",
            "1 2 1 1 2 1 1 0 1 0 0 0 0 0 0 0 0 0 0 0 0 0 0 "
          ]
        }
      ]
    },
    {
      "cell_type": "markdown",
      "metadata": {
        "id": "fliWZpZ01i-S"
      },
      "source": [
        "리스트 - 이상한 출석 번호 부르기"
      ]
    },
    {
      "cell_type": "code",
      "metadata": {
        "colab": {
          "base_uri": "https://localhost:8080/"
        },
        "id": "jRQ1KFtA1l2Y",
        "outputId": "40bd4cae-d663-4c3c-f87d-5d152b178af9"
      },
      "source": [
        "n = int(input())      #개수를 입력받아 n에 정수로 저장\n",
        "a = input().split()  #공백을 기준으로 잘라 a에 순서대로 저장\n",
        "\n",
        "for i in range(n) :  #0부터 n-1까지...\n",
        "  a[i] = int(a[i])       #a에 순서대로 저장되어있는 각 값을 정수로 변환해 다시 저장\n",
        "\n",
        "d = []     \n",
        "for i in range(n) : \n",
        "  d.append(a[n-i-1])\n",
        "\n",
        "for i in d:\n",
        "  print(i, end=' ')"
      ],
      "execution_count": null,
      "outputs": [
        {
          "output_type": "stream",
          "name": "stdout",
          "text": [
            "10\n",
            "10 4 2 3 6 6 7 9 8 5\n",
            "5 8 9 7 6 6 3 2 4 10 "
          ]
        }
      ]
    },
    {
      "cell_type": "markdown",
      "metadata": {
        "id": "113w1Hkp3xSl"
      },
      "source": [
        "리스트 - 이상한 출석 번호 부르기"
      ]
    },
    {
      "cell_type": "code",
      "metadata": {
        "colab": {
          "base_uri": "https://localhost:8080/"
        },
        "id": "HMoOITkw2nRk",
        "outputId": "9b062c6e-fe3f-4ef9-c990-a1e77a9f74de"
      },
      "source": [
        "n = int(input())      #개수를 입력받아 n에 정수로 저장\n",
        "a = input().split()  #공백을 기준으로 잘라 a에 순서대로 저장\n",
        "\n",
        "for i in range(n) :  #0부터 n-1까지...\n",
        "  a[i] = int(a[i])       #a에 순서대로 저장되어있는 각 값을 정수로 변환해 다시 저장\n",
        "\n",
        "# 첫번째와 두번째 비교, 작은 수 남기기\n",
        "# 결과와 세번째 비교, 작은 수 남기기\n",
        "# 무한반복\n",
        "\n",
        "while True:\n",
        "  try:\n",
        "    if a[0] <= a[1]:\n",
        "      del a[1]\n",
        "    elif a[0] > a[1]:\n",
        "      del a[0]\n",
        "  except:\n",
        "    break\n",
        "\n",
        "print(a[0])"
      ],
      "execution_count": null,
      "outputs": [
        {
          "output_type": "stream",
          "name": "stdout",
          "text": [
            "10\n",
            "10 4 2 3 6 6 7 9 8 5\n",
            "2\n"
          ]
        }
      ]
    },
    {
      "cell_type": "markdown",
      "metadata": {
        "id": "n6MK_e0j8xjM"
      },
      "source": [
        "리스트 - 바둑판에 흰 돌 놓기"
      ]
    },
    {
      "cell_type": "code",
      "metadata": {
        "id": "d0znFV1f4D21"
      },
      "source": [
        "d=[]                        #대괄호 [ ] 를 이용해 아무것도 없는 빈 리스트 만들기\n",
        "for i in range(20) :\n",
        "  d.append([])         #리스트 안에 다른 리스트 추가해 넣기\n",
        "  for j in range(20) : \n",
        "    d[i].append(0)    #리스트 안에 들어있는 리스트 안에 0 추가해 넣기\n",
        "\n",
        "n = int(input())\n",
        "for i in range(n) :\n",
        "  x, y = input().split()\n",
        "  d[int(x)][int(y)] = 1\n",
        "\n",
        "for i in range(1, 20) :\n",
        "  for j in range(1, 20) : \n",
        "    print(d[i][j], end=' ')    #공백을 두고 한 줄로 출력\n",
        "  print()                          #줄 바꿈\n"
      ],
      "execution_count": null,
      "outputs": []
    },
    {
      "cell_type": "code",
      "metadata": {
        "id": "V-ngSn3x8-wG"
      },
      "source": [
        "d=[]\n",
        "for i in range(20) : \n",
        "  d.append([])\n",
        "  for j in range(20) :  \n",
        "    d[i].append(0)\n",
        "\n",
        "for i in range(1, 20) :\n",
        "  for j in range(1, 20) : \n",
        "    print(d[i][j], end=' ')    #공백을 두고 한 줄로 출력\n",
        "  print()                          #줄 바꿈"
      ],
      "execution_count": null,
      "outputs": []
    },
    {
      "cell_type": "code",
      "metadata": {
        "colab": {
          "base_uri": "https://localhost:8080/"
        },
        "id": "AKwhfKFUGVp-",
        "outputId": "be611073-1052-414c-b66f-6c0f13dc45e8"
      },
      "source": [
        "d = [[0,1],[2,3]]\n",
        "d[1][0] = 4\n",
        "d"
      ],
      "execution_count": null,
      "outputs": [
        {
          "output_type": "execute_result",
          "data": {
            "text/plain": [
              "[[0, 1], [4, 3]]"
            ]
          },
          "metadata": {},
          "execution_count": 242
        }
      ]
    },
    {
      "cell_type": "markdown",
      "metadata": {
        "id": "4w49zueY-pkS"
      },
      "source": [
        "리스트 - 바둑알 십자 뒤집기"
      ]
    },
    {
      "cell_type": "code",
      "metadata": {
        "id": "nS3V3XN6AHRy"
      },
      "source": [
        "d=[]                        #대괄호 [ ] 를 이용해 아무것도 없는 빈 리스트 만들기\n",
        "for i in range(0, 19) :\n",
        "  d.append(input().split(' '))         #리스트 안에 다른 리스트 추가해 넣기\n",
        "  #d.append(('1 0 0 0 0 0 0 0 0 1 0 1 0 0 0 0 0 0 0').split(' '))  \n",
        "\n",
        "#for i in range(0, 19):\n",
        "#  for j in range(0, 19) : \n",
        "#    print(d[i][j], end=' ')    #공백을 두고 한 줄로 출력\n",
        "#  print()                          #줄 바꿈\n",
        "\n",
        "n = int(input())\n",
        "for i in range(n) :\n",
        "  x,y=input().split()\n",
        "  x = int(x)-1\n",
        "  y = int(y)-1\n",
        "  for j in range(0, 19) :\n",
        "    \n",
        "    if int(d[x][j])==1 :\n",
        "      d[x][j]=0\n",
        "      #print(\"T1\",x,j)\n",
        "    else:\n",
        "      d[x][j]=1\n",
        "      #print(\"T2\",x,j)\n",
        "\n",
        "    if int(d[j][y])==1 :\n",
        "      d[j][y]=0\n",
        "      #print(\"T3\",j,y)\n",
        "    else :\n",
        "      d[j][y]=1\n",
        "      #print(\"T4\",j,y)\n",
        "\n",
        "#print(d[10][0])\n",
        "#print(int(d[10][0]) == 1)\n",
        "\n",
        "\n",
        "for i in range(0, 19):\n",
        "  for j in range(0, 19) : \n",
        "    print(d[i][j], end=' ')    #공백을 두고 한 줄로 출력\n",
        "  print()                          #줄 바꿈"
      ],
      "execution_count": null,
      "outputs": []
    },
    {
      "cell_type": "markdown",
      "metadata": {
        "id": "k1GUr0LFQT3d"
      },
      "source": [
        "리스트 - 설탕과자 뽑기"
      ]
    },
    {
      "cell_type": "code",
      "metadata": {
        "id": "idsmHXBEQV4_"
      },
      "source": [
        "h,w=input().split()\n",
        "h = int(h)\n",
        "w = int(w)\n",
        "#판떼기 생성\n",
        "d=[]                        #대괄호 [ ] 를 이용해 아무것도 없는 빈 리스트 만들기\n",
        "for k in range(h) :\n",
        "  d.append([])         #리스트 안에 다른 리스트 추가해 넣기\n",
        "  for j in range(w) : \n",
        "    d[k].append(0)    #리스트 안에 들어있는 리스트 안에 0 추가해 넣기\n",
        "\n",
        "n = int(input())\n",
        "for p in range(n):\n",
        "  i,b,x,y = input().split()\n",
        "  i = int(i)\n",
        "  b = int(b)\n",
        "  x = int(x)-1\n",
        "  y = int(y)-1\n",
        "  d[x][y] = 1\n",
        "  if b == 0: # 가로 확장\n",
        "    for t in range(1,i):\n",
        "      d[x][y+t] = 1\n",
        "\n",
        "\n",
        "  else: # 세로 확장\\\n",
        "    for t in range(1,i):\n",
        "      d[x+t][y] = 1\n",
        "\n",
        "\n",
        "#판떼기 출력\n",
        "for i in range(0, h):\n",
        "  for j in range(0, w) : \n",
        "    print(d[i][j], end=' ')   \n",
        "  print()                    "
      ],
      "execution_count": null,
      "outputs": []
    },
    {
      "cell_type": "markdown",
      "metadata": {
        "id": "lHXK2TZeb9cQ"
      },
      "source": [
        "리스트 - 성실한 개미"
      ]
    },
    {
      "cell_type": "code",
      "metadata": {
        "colab": {
          "base_uri": "https://localhost:8080/"
        },
        "id": "lhSp79_KRvZ0",
        "outputId": "ad157336-9452-43a2-f610-b6d4567c614c"
      },
      "source": [
        "d=[]\n",
        "for i in range(0, 10) :\n",
        "  d.append(input().split(' ')) \n",
        "\n",
        "x = 1\n",
        "y = 1\n",
        "\n",
        "d[x][y] = 9\n",
        "while True:\n",
        "  if int(d[x][y+1]) == 2:\n",
        "    y += 1\n",
        "    d[x][y] = 9\n",
        "    break\n",
        "  \n",
        "  elif int(d[x+1][y]) == 2:\n",
        "    x += 1\n",
        "    d[x][y] = 9\n",
        "    break\n",
        "  elif(int(d[x][y+1]) == 0):\n",
        "    y += 1\n",
        "    d[x][y] = 9\n",
        "\n",
        "  elif(int(d[x][y+1]) == 1):\n",
        "    x += 1\n",
        "    d[x][y] = 9\n",
        "\n",
        "for i in range(10):\n",
        "  for j in range(10) : \n",
        "    print(d[i][j], end=' ')   \n",
        "  print()            "
      ],
      "execution_count": null,
      "outputs": [
        {
          "output_type": "stream",
          "name": "stdout",
          "text": [
            "1 1 1 1 1 1 1 1 1 1\n",
            "1 0 0 1 0 0 0 0 0 1\n",
            "1 0 0 1 1 1 0 0 0 1\n",
            "1 0 0 0 0 0 0 1 0 1\n",
            "1 0 0 0 0 0 0 1 0 1\n",
            "1 0 0 0 0 1 0 1 0 1\n",
            "1 0 0 0 0 1 2 1 0 1\n",
            "1 0 0 0 0 1 0 0 0 1\n",
            "1 0 0 0 0 0 0 0 0 1\n",
            "1 1 1 1 1 1 1 1 1 1\n",
            "1 1 1 1 1 1 1 1 1 1 \n",
            "1 9 9 1 0 0 0 0 0 1 \n",
            "1 0 9 1 1 1 0 0 0 1 \n",
            "1 0 9 9 9 9 9 1 0 1 \n",
            "1 0 0 0 0 0 9 1 0 1 \n",
            "1 0 0 0 0 1 9 1 0 1 \n",
            "1 0 0 0 0 1 2 1 0 1 \n",
            "1 0 0 0 0 1 0 0 0 1 \n",
            "1 0 0 0 0 0 0 0 0 1 \n",
            "1 1 1 1 1 1 1 1 1 1 \n"
          ]
        }
      ]
    },
    {
      "cell_type": "code",
      "metadata": {
        "id": "L8HTfjZehyn1"
      },
      "source": [
        "d=[]                        #대괄호 [ ] 를 이용해 아무것도 없는 빈 리스트 만들기\n",
        "for i in range(0, 10) :\n",
        "  d.append(input().split(' '))         #리스트 안에 다른 리스트 추가해 넣기\n",
        "\n",
        "x = 1\n",
        "y = 1\n",
        "\n",
        "d[x][y] = 9\n",
        "while True:\n",
        "  if int(d[x][y+1]) == 2:\n",
        "    y += 1\n",
        "    d[x][y] = 9\n",
        "    break\n",
        "  \n",
        "  elif int(d[x+1][y]) == 2:\n",
        "    x += 1\n",
        "    d[x][y] = 9\n",
        "    break\n",
        "\n",
        "  elif(int(d[x][y+1]) == 0):\n",
        "    y += 1\n",
        "    d[x][y] = 9\n",
        "    #판떼기 출력\n",
        "#    for i in range(10):\n",
        "#      for j in range(10) : \n",
        "#        print(d[i][j], end=' ')   \n",
        "#      print()          \n",
        "  elif(int(d[x][y+1]) == 1):\n",
        "    x += 1\n",
        "    d[x][y] = 9\n",
        "#    for i in range(10):\n",
        "#      for j in range(10) : \n",
        "#        print(d[i][j], end=' ')   \n",
        "#      print()    \n",
        "  \n",
        "#판떼기 출력\n",
        "for i in range(10):\n",
        "  for j in range(10) : \n",
        "    print(d[i][j], end=' ')   \n",
        "  print()       "
      ],
      "execution_count": null,
      "outputs": []
    },
    {
      "cell_type": "code",
      "metadata": {
        "colab": {
          "base_uri": "https://localhost:8080/"
        },
        "id": "n_HTV2cwdJjA",
        "outputId": "3670cf2b-a627-4a30-f2eb-301f76774128"
      },
      "source": [
        "d=[]                        #대괄호 [ ] 를 이용해 아무것도 없는 빈 리스트 만들기\n",
        "#for i in range(0, 10) :\n",
        "#  d.append(input().split(' '))         #리스트 안에 다른 리스트 추가해 넣기\n",
        "d.append('1 1 1 1 1 1 1 1 1 1'.split(' '))\n",
        "d.append('1 0 0 0 0 0 0 0 0 1'.split(' '))\n",
        "d.append('1 0 0 0 0 0 0 0 0 1'.split(' '))\n",
        "d.append('1 0 0 0 0 0 0 0 0 1'.split(' '))\n",
        "d.append('1 0 0 0 0 0 0 0 0 1'.split(' '))\n",
        "d.append('1 0 0 0 0 0 0 0 0 1'.split(' '))\n",
        "d.append('1 0 0 0 0 0 2 0 0 1'.split(' '))\n",
        "d.append('1 0 0 0 0 0 0 0 0 1'.split(' '))\n",
        "d.append('1 0 0 0 0 0 0 0 0 1'.split(' '))\n",
        "d.append('1 1 1 1 1 1 1 1 1 1'.split(' '))\n",
        "\n",
        "x = 1\n",
        "y = 1\n",
        "\n",
        "d[x][y] = 9\n",
        "\n",
        "while True:\n",
        "  if(int(d[x][y+1]) == 0):\n",
        "    y += 1\n",
        "    d[x][y] = 9\n",
        "    #판떼기 출력\n",
        "#    for i in range(10):\n",
        "#      for j in range(10) : \n",
        "#        print(d[i][j], end=' ')   \n",
        "#      print()          \n",
        "  elif(int(d[x+1][y]) == 0):\n",
        "    x += 1\n",
        "    d[x][y] = 9\n",
        "#    for i in range(10):\n",
        "#      for j in range(10) : \n",
        "#        print(d[i][j], end=' ')   \n",
        "#      print()    \n",
        "  else:\n",
        "    if int(d[x][y+1]) == 2:\n",
        "      y += 1\n",
        "      d[x][y] = 9\n",
        "      break\n",
        "\n",
        "    elif int(d[x+1][y]) == 2:\n",
        "      x += 1\n",
        "      d[x][y] = 9\n",
        "      break\n",
        "    else:\n",
        "      break\n",
        "#판떼기 출력\n",
        "for i in range(10):\n",
        "  for j in range(10) : \n",
        "    print(d[i][j], end=' ')   \n",
        "  print()            "
      ],
      "execution_count": null,
      "outputs": [
        {
          "output_type": "stream",
          "name": "stdout",
          "text": [
            "1 1 1 1 1 1 1 1 1 1 \n",
            "1 9 9 0 0 0 0 0 0 1 \n",
            "1 0 0 0 0 0 0 0 0 1 \n",
            "1 0 0 0 0 0 0 0 0 1 \n",
            "1 0 0 0 0 0 0 0 0 1 \n",
            "1 0 0 0 0 0 0 0 0 1 \n",
            "1 0 0 0 0 0 2 0 0 1 \n",
            "1 0 0 0 0 0 0 0 0 1 \n",
            "1 0 0 0 0 0 0 0 0 1 \n",
            "1 1 1 1 1 1 1 1 1 1 \n",
            "1 1 1 1 1 1 1 1 1 1 \n",
            "1 9 9 9 0 0 0 0 0 1 \n",
            "1 0 0 0 0 0 0 0 0 1 \n",
            "1 0 0 0 0 0 0 0 0 1 \n",
            "1 0 0 0 0 0 0 0 0 1 \n",
            "1 0 0 0 0 0 0 0 0 1 \n",
            "1 0 0 0 0 0 2 0 0 1 \n",
            "1 0 0 0 0 0 0 0 0 1 \n",
            "1 0 0 0 0 0 0 0 0 1 \n",
            "1 1 1 1 1 1 1 1 1 1 \n",
            "1 1 1 1 1 1 1 1 1 1 \n",
            "1 9 9 9 9 0 0 0 0 1 \n",
            "1 0 0 0 0 0 0 0 0 1 \n",
            "1 0 0 0 0 0 0 0 0 1 \n",
            "1 0 0 0 0 0 0 0 0 1 \n",
            "1 0 0 0 0 0 0 0 0 1 \n",
            "1 0 0 0 0 0 2 0 0 1 \n",
            "1 0 0 0 0 0 0 0 0 1 \n",
            "1 0 0 0 0 0 0 0 0 1 \n",
            "1 1 1 1 1 1 1 1 1 1 \n",
            "1 1 1 1 1 1 1 1 1 1 \n",
            "1 9 9 9 9 9 0 0 0 1 \n",
            "1 0 0 0 0 0 0 0 0 1 \n",
            "1 0 0 0 0 0 0 0 0 1 \n",
            "1 0 0 0 0 0 0 0 0 1 \n",
            "1 0 0 0 0 0 0 0 0 1 \n",
            "1 0 0 0 0 0 2 0 0 1 \n",
            "1 0 0 0 0 0 0 0 0 1 \n",
            "1 0 0 0 0 0 0 0 0 1 \n",
            "1 1 1 1 1 1 1 1 1 1 \n",
            "1 1 1 1 1 1 1 1 1 1 \n",
            "1 9 9 9 9 9 9 0 0 1 \n",
            "1 0 0 0 0 0 0 0 0 1 \n",
            "1 0 0 0 0 0 0 0 0 1 \n",
            "1 0 0 0 0 0 0 0 0 1 \n",
            "1 0 0 0 0 0 0 0 0 1 \n",
            "1 0 0 0 0 0 2 0 0 1 \n",
            "1 0 0 0 0 0 0 0 0 1 \n",
            "1 0 0 0 0 0 0 0 0 1 \n",
            "1 1 1 1 1 1 1 1 1 1 \n",
            "1 1 1 1 1 1 1 1 1 1 \n",
            "1 9 9 9 9 9 9 9 0 1 \n",
            "1 0 0 0 0 0 0 0 0 1 \n",
            "1 0 0 0 0 0 0 0 0 1 \n",
            "1 0 0 0 0 0 0 0 0 1 \n",
            "1 0 0 0 0 0 0 0 0 1 \n",
            "1 0 0 0 0 0 2 0 0 1 \n",
            "1 0 0 0 0 0 0 0 0 1 \n",
            "1 0 0 0 0 0 0 0 0 1 \n",
            "1 1 1 1 1 1 1 1 1 1 \n",
            "1 1 1 1 1 1 1 1 1 1 \n",
            "1 9 9 9 9 9 9 9 9 1 \n",
            "1 0 0 0 0 0 0 0 0 1 \n",
            "1 0 0 0 0 0 0 0 0 1 \n",
            "1 0 0 0 0 0 0 0 0 1 \n",
            "1 0 0 0 0 0 0 0 0 1 \n",
            "1 0 0 0 0 0 2 0 0 1 \n",
            "1 0 0 0 0 0 0 0 0 1 \n",
            "1 0 0 0 0 0 0 0 0 1 \n",
            "1 1 1 1 1 1 1 1 1 1 \n",
            "1 1 1 1 1 1 1 1 1 1 \n",
            "1 9 9 9 9 9 9 9 9 1 \n",
            "1 0 0 0 0 0 0 0 9 1 \n",
            "1 0 0 0 0 0 0 0 0 1 \n",
            "1 0 0 0 0 0 0 0 0 1 \n",
            "1 0 0 0 0 0 0 0 0 1 \n",
            "1 0 0 0 0 0 2 0 0 1 \n",
            "1 0 0 0 0 0 0 0 0 1 \n",
            "1 0 0 0 0 0 0 0 0 1 \n",
            "1 1 1 1 1 1 1 1 1 1 \n",
            "1 1 1 1 1 1 1 1 1 1 \n",
            "1 9 9 9 9 9 9 9 9 1 \n",
            "1 0 0 0 0 0 0 0 9 1 \n",
            "1 0 0 0 0 0 0 0 9 1 \n",
            "1 0 0 0 0 0 0 0 0 1 \n",
            "1 0 0 0 0 0 0 0 0 1 \n",
            "1 0 0 0 0 0 2 0 0 1 \n",
            "1 0 0 0 0 0 0 0 0 1 \n",
            "1 0 0 0 0 0 0 0 0 1 \n",
            "1 1 1 1 1 1 1 1 1 1 \n",
            "1 1 1 1 1 1 1 1 1 1 \n",
            "1 9 9 9 9 9 9 9 9 1 \n",
            "1 0 0 0 0 0 0 0 9 1 \n",
            "1 0 0 0 0 0 0 0 9 1 \n",
            "1 0 0 0 0 0 0 0 9 1 \n",
            "1 0 0 0 0 0 0 0 0 1 \n",
            "1 0 0 0 0 0 2 0 0 1 \n",
            "1 0 0 0 0 0 0 0 0 1 \n",
            "1 0 0 0 0 0 0 0 0 1 \n",
            "1 1 1 1 1 1 1 1 1 1 \n",
            "1 1 1 1 1 1 1 1 1 1 \n",
            "1 9 9 9 9 9 9 9 9 1 \n",
            "1 0 0 0 0 0 0 0 9 1 \n",
            "1 0 0 0 0 0 0 0 9 1 \n",
            "1 0 0 0 0 0 0 0 9 1 \n",
            "1 0 0 0 0 0 0 0 9 1 \n",
            "1 0 0 0 0 0 2 0 0 1 \n",
            "1 0 0 0 0 0 0 0 0 1 \n",
            "1 0 0 0 0 0 0 0 0 1 \n",
            "1 1 1 1 1 1 1 1 1 1 \n",
            "1 1 1 1 1 1 1 1 1 1 \n",
            "1 9 9 9 9 9 9 9 9 1 \n",
            "1 0 0 0 0 0 0 0 9 1 \n",
            "1 0 0 0 0 0 0 0 9 1 \n",
            "1 0 0 0 0 0 0 0 9 1 \n",
            "1 0 0 0 0 0 0 0 9 1 \n",
            "1 0 0 0 0 0 2 0 9 1 \n",
            "1 0 0 0 0 0 0 0 0 1 \n",
            "1 0 0 0 0 0 0 0 0 1 \n",
            "1 1 1 1 1 1 1 1 1 1 \n",
            "1 1 1 1 1 1 1 1 1 1 \n",
            "1 9 9 9 9 9 9 9 9 1 \n",
            "1 0 0 0 0 0 0 0 9 1 \n",
            "1 0 0 0 0 0 0 0 9 1 \n",
            "1 0 0 0 0 0 0 0 9 1 \n",
            "1 0 0 0 0 0 0 0 9 1 \n",
            "1 0 0 0 0 0 2 0 9 1 \n",
            "1 0 0 0 0 0 0 0 9 1 \n",
            "1 0 0 0 0 0 0 0 0 1 \n",
            "1 1 1 1 1 1 1 1 1 1 \n",
            "1 1 1 1 1 1 1 1 1 1 \n",
            "1 9 9 9 9 9 9 9 9 1 \n",
            "1 0 0 0 0 0 0 0 9 1 \n",
            "1 0 0 0 0 0 0 0 9 1 \n",
            "1 0 0 0 0 0 0 0 9 1 \n",
            "1 0 0 0 0 0 0 0 9 1 \n",
            "1 0 0 0 0 0 2 0 9 1 \n",
            "1 0 0 0 0 0 0 0 9 1 \n",
            "1 0 0 0 0 0 0 0 9 1 \n",
            "1 1 1 1 1 1 1 1 1 1 \n",
            "1 1 1 1 1 1 1 1 1 1 \n",
            "1 9 9 9 9 9 9 9 9 1 \n",
            "1 0 0 0 0 0 0 0 9 1 \n",
            "1 0 0 0 0 0 0 0 9 1 \n",
            "1 0 0 0 0 0 0 0 9 1 \n",
            "1 0 0 0 0 0 0 0 9 1 \n",
            "1 0 0 0 0 0 2 0 9 1 \n",
            "1 0 0 0 0 0 0 0 9 1 \n",
            "1 0 0 0 0 0 0 0 9 1 \n",
            "1 1 1 1 1 1 1 1 1 1 \n"
          ]
        }
      ]
    },
    {
      "cell_type": "code",
      "metadata": {
        "id": "1Hr1fJGuie3K"
      },
      "source": [
        "d=[]\n",
        "for i in range(0, 10) :\n",
        "  d.append(input().split(' ')) \n",
        "\n",
        "x = 1\n",
        "y = 1\n",
        "\n",
        "d[x][y] = 9\n",
        "\n",
        "while True:\n",
        "  if(int(d[x][y+1]) == 0):\n",
        "    y += 1\n",
        "    d[x][y] = 9\n",
        "    #판떼기 출력\n",
        "#    for i in range(10):\n",
        "#      for j in range(10) : \n",
        "#        print(d[i][j], end=' ')   \n",
        "#      print()          \n",
        "  elif(int(d[x+1][y]) == 0):\n",
        "    x += 1\n",
        "    d[x][y] = 9\n",
        "#    for i in range(10):\n",
        "#      for j in range(10) : \n",
        "#        print(d[i][j], end=' ')   \n",
        "#      print()    \n",
        "  else:\n",
        "    if int(d[x][y+1]) == 2:\n",
        "      y += 1\n",
        "      d[x][y] = 9\n",
        "      break\n",
        "\n",
        "    elif int(d[x+1][y]) == 2:\n",
        "      x += 1\n",
        "      d[x][y] = 9\n",
        "      break\n",
        "    else:\n",
        "      break\n",
        "#판떼기 출력\n",
        "for i in range(10):\n",
        "  for j in range(10) : \n",
        "    print(d[i][j], end=' ')   \n",
        "  print()               "
      ],
      "execution_count": null,
      "outputs": []
    },
    {
      "cell_type": "code",
      "metadata": {
        "id": "R4ZCj23XjuNL"
      },
      "source": [
        "bruh"
      ],
      "execution_count": null,
      "outputs": []
    }
  ]
}