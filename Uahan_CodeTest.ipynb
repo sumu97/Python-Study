{
  "nbformat": 4,
  "nbformat_minor": 0,
  "metadata": {
    "colab": {
      "name": "Uahan_CodeTest.ipynb",
      "provenance": [],
      "authorship_tag": "ABX9TyNRaaJqfBFRq8RPcewmFGum",
      "include_colab_link": true
    },
    "kernelspec": {
      "name": "python3",
      "display_name": "Python 3"
    },
    "language_info": {
      "name": "python"
    }
  },
  "cells": [
    {
      "cell_type": "markdown",
      "metadata": {
        "id": "view-in-github",
        "colab_type": "text"
      },
      "source": [
        "<a href=\"https://colab.research.google.com/github/sumu97/Python-Study/blob/main/Uahan_CodeTest.ipynb\" target=\"_parent\"><img src=\"https://colab.research.google.com/assets/colab-badge.svg\" alt=\"Open In Colab\"/></a>"
      ]
    },
    {
      "cell_type": "markdown",
      "metadata": {
        "id": "690Ogj7bMAni"
      },
      "source": [
        "우아한테크코스 4기 온라인 코딩테스트(웹 백엔드과정)"
      ]
    },
    {
      "cell_type": "markdown",
      "metadata": {
        "id": "xdw9Xlx5wYuX"
      },
      "source": [
        "가장 높은 숫자 하나를 두고 \n",
        "숫자 세개 주어져서, 그 중 제일 높은 숫자 기준으로 나머지를 채우는 문제\\\n",
        "나머지가 가장 큰 값 기준으로 얼마나 채워졌는지를 배열으로 출력"
      ]
    },
    {
      "cell_type": "code",
      "metadata": {
        "colab": {
          "base_uri": "https://localhost:8080/"
        },
        "id": "8LL-RZhRL_Mq",
        "outputId": "f6eb6068-caf1-4c95-9555-e4bfe4a84da6"
      },
      "source": [
        "def solution(arr):\n",
        "    a = 0\n",
        "    b = 0\n",
        "    c = 0\n",
        "    answer = []\n",
        "    for i in arr:\n",
        "        if i == 1:\n",
        "            a += 1\n",
        "        elif i == 2:\n",
        "            b += 1\n",
        "        else:\n",
        "            c += 1\n",
        "    a1 = a\n",
        "    b1 = b\n",
        "    c1 = c\n",
        "\n",
        "    print(a,b,c)\n",
        "    while True:\n",
        "        if (a == b and b == c):\n",
        "            answer = [a-a1, b-b1, c-c1]\n",
        "            return answer\n",
        "            break\n",
        "        elif a < b:\n",
        "            arr.append(1)\n",
        "            a += 1\n",
        "        elif a > b:\n",
        "            arr.append(2)\n",
        "            b += 1\n",
        "        elif b > c:\n",
        "            arr.append(3)\n",
        "            c += 1\n",
        "        elif c > a:\n",
        "            arr.append(1)\n",
        "            a += 1\n",
        "\n",
        "a1 = [4, 2, 3]\n",
        "solution(a1)"
      ],
      "execution_count": 1,
      "outputs": [
        {
          "output_type": "stream",
          "name": "stdout",
          "text": [
            "0 1 2\n"
          ]
        },
        {
          "output_type": "execute_result",
          "data": {
            "text/plain": [
              "[2, 1, 0]"
            ]
          },
          "metadata": {},
          "execution_count": 1
        }
      ]
    },
    {
      "cell_type": "code",
      "metadata": {
        "colab": {
          "base_uri": "https://localhost:8080/",
          "height": 35
        },
        "id": "Thk5BHpYO5dL",
        "outputId": "f47ddd83-01f1-45fa-9bc9-e6e3f10501bf"
      },
      "source": [
        "def solution(log):\n",
        "\n",
        "  def to_int(time):\n",
        "    h = time[:2]\n",
        "    m = time[3:]\n",
        "    h = int(h)\n",
        "    m = int(m) / 60\n",
        "    return h+m\n",
        "\n",
        "  def to_time(int_t):\n",
        "    h = round(int_t,0)\n",
        "    m = (int_t - h) * 60\n",
        "    h = int(h)\n",
        "    m = float(m)\n",
        "    if m < 0:\n",
        "      h = h - 1\n",
        "      m = m + 60\n",
        "    m = int(m)\n",
        "    if h < 10:\n",
        "      return \"0\"+str(h)+\":\"+str(m)\n",
        "    else:\n",
        "      return str(h)+\":\"+str(m)\n",
        "\n",
        "  total_time = 0\n",
        "  b = 0\n",
        "  for t in log:\n",
        "    if b == 0: # 시작 버튼 눌럿\n",
        "      temp = t\n",
        "\n",
        "\n",
        "      b = 1\n",
        "    \n",
        "    elif b == 1:\n",
        "      st_time = to_int(t) - to_int(temp)\n",
        "\n",
        "      if (st_time < to_int('00:05')): # 조건1\n",
        "        b = 0\n",
        "        continue\n",
        "\n",
        "      if (st_time > to_int('01:45')): # 조건2\n",
        "        st_time = to_int('01:45')\n",
        "\n",
        "      total_time += st_time\n",
        "      #print(st_time)\n",
        "\n",
        "      b = 0\n",
        "\n",
        "\n",
        "      answer = to_time(total_time)\n",
        "  return answer\n",
        "\n",
        "data = [\"01:00\", \"08:00\", \"15:00\", \"15:04\", \"23:00\", \"23:59\"]\n",
        "solution(data)"
      ],
      "execution_count": null,
      "outputs": [
        {
          "output_type": "execute_result",
          "data": {
            "application/vnd.google.colaboratory.intrinsic+json": {
              "type": "string"
            },
            "text/plain": [
              "'02:44'"
            ]
          },
          "metadata": {},
          "execution_count": 49
        }
      ]
    },
    {
      "cell_type": "code",
      "metadata": {
        "colab": {
          "base_uri": "https://localhost:8080/"
        },
        "id": "8nNDOLFpUeFc",
        "outputId": "50aae0a9-b166-4ded-b48a-104792db15eb"
      },
      "source": [
        "def solution(ings, menu, sell):\n",
        "    # 재료를 숫자로 바꿔주는 함수(불가)\n",
        "    # 메뉴의 정보 분해 for문\n",
        "    # 아무튼 돈 번거만 말하면 된다\n",
        "    # 하나당 수익을 계산, 마지막 Sell 에서 곱해주기만 하면 됨\n",
        "    answer = 0\n",
        "    for s in menu: # 메뉴 하나씩\n",
        "      name, need, sp = s.split() # 하나의 메뉴 분해\n",
        "      profit = 0\n",
        "      wg = 0\n",
        "      for f in need: # 재료 하나씩 (a, r, r, a, k)\n",
        "        for g in ings: # 단가 하나씩\n",
        "          ing,gs = g.split() # 단가 분해\n",
        "          #print(ing, f, gs)\n",
        "          if ing == f: # 단가의 값이랑 재료의 값이랑 같으면\n",
        "            wg += int(gs) # 원가에 가격 추가\n",
        "            #print('T1')\n",
        "            break\n",
        "      profit = int(sp)-wg\n",
        "      print(name, profit)\n",
        "      for k in sell:\n",
        "        i, l = k.split()\n",
        "        if i == name:\n",
        "          answer = profit * int(l) + answer\n",
        "\n",
        "    return answer\n",
        "\n",
        "\n",
        "\n",
        "\n",
        "ings = [\"r 10\", \"a 23\", \"t 124\", \"k 9\"]\n",
        "menu = [\"PIZZA arraak 145\", \"HAMBURGER tkar 180\", \"BREAD kkk 30\", \"ICECREAM rar 50\", \"SHAVEDICE rar 45\", \"JUICE rra 55\", \"WATER a 20\"]\n",
        "sell = [\"BREAD 5\", \"ICECREAM 100\", \"PIZZA 7\", \"JUICE 10\", \"WATER 1\"]\n",
        "\n",
        "solution(ings, menu, sell)"
      ],
      "execution_count": null,
      "outputs": [
        {
          "output_type": "stream",
          "name": "stdout",
          "text": [
            "PIZZA 47\n",
            "HAMBURGER 14\n",
            "BREAD 3\n",
            "ICECREAM 7\n",
            "SHAVEDICE 2\n",
            "JUICE 12\n",
            "WATER -3\n"
          ]
        },
        {
          "output_type": "execute_result",
          "data": {
            "text/plain": [
              "1161"
            ]
          },
          "metadata": {},
          "execution_count": 75
        }
      ]
    },
    {
      "cell_type": "code",
      "metadata": {
        "colab": {
          "base_uri": "https://localhost:8080/"
        },
        "id": "2H6KqJoEhG_4",
        "outputId": "d837cf6f-d4dc-44f4-8d94-fdaaf50bcc76"
      },
      "source": [
        "def solution(s):\n",
        "  # 뭘로 묶였는지 남기면서 가면, 맨 끝에서 같은 값일때만 더하면 되니까.\n",
        "    d = []\n",
        "    f = []\n",
        "    answer = []\n",
        "    count = 0\n",
        "    a = s[0]\n",
        "    for i in s:\n",
        "      if a == i:\n",
        "        count += 1\n",
        "\n",
        "        a = i\n",
        "        print('T1',a)\n",
        "\n",
        "      else:\n",
        "        d.append(count)\n",
        "        count = 1\n",
        "        a = i\n",
        "        print('T2',a)\n",
        "    \n",
        "    d.append(count)\n",
        "    \n",
        "\n",
        "    if s[0] == s[-1]:\n",
        "      f.append(d[0]+d[-1])\n",
        "      for k in range(1,len(d)-1):\n",
        "        f.append(d[k])\n",
        "      #print(k)\n",
        "    else:\n",
        "      f = d\n",
        "\n",
        "\n",
        "    # 리스트 f 내림차순 정렬\n",
        "    #print(f)\n",
        "    answer = sorted(f)\n",
        "    #print(answer)\n",
        "    return answer\n",
        "\n",
        "\n",
        "s = \"b\"\n",
        "solution(s)"
      ],
      "execution_count": 10,
      "outputs": [
        {
          "output_type": "stream",
          "name": "stdout",
          "text": [
            "T1 b\n"
          ]
        },
        {
          "output_type": "execute_result",
          "data": {
            "text/plain": [
              "[2]"
            ]
          },
          "metadata": {},
          "execution_count": 10
        }
      ]
    },
    {
      "cell_type": "code",
      "metadata": {
        "colab": {
          "base_uri": "https://localhost:8080/"
        },
        "id": "At3yaqS1pEAK",
        "outputId": "a31d2d7c-d15d-47b2-a0a2-2fdb1bea6fde"
      },
      "source": [
        "def solution(rows, columns):\n",
        "    answer = [[]]\n",
        "    d=[]                        #대괄호 [ ] 를 이용해 아무것도 없는 빈 리스트 만들기\n",
        "    for k in range(rows) :\n",
        "      d.append([])         #리스트 안에 다른 리스트 추가해 넣기\n",
        "      for j in range(columns) : \n",
        "        d[k].append(0)    #리스트 안에 들어있는 리스트 안에 0 추가해 넣기 \n",
        "    print(d)\n",
        "    # r1, r2\n",
        "    r = 0\n",
        "    c = 0\n",
        "    n = 1 # 최근에 쓴 숫자\n",
        "    d[r][c] = n\n",
        "    while True:\n",
        "\n",
        "\n",
        "        if (((r==0 and c==0) and n !=1) and n%2==1):\n",
        "          #print('Q2')\n",
        "          break\n",
        "        else:\n",
        "          d[r][c] = n\n",
        "\n",
        "\n",
        "          \n",
        "        t1 = False # 0 있나 없나\n",
        "        for i in d:\n",
        "          for a in i:\n",
        "            if a == 0:\n",
        "              t1 = True\n",
        "        if t1 == False:\n",
        "          #print('Q1')\n",
        "          break\n",
        "\n",
        "\n",
        "        if n%2 == 0: # 짝수면\n",
        "          #print('T2', c, n)\n",
        "          if r == rows-1:\n",
        "            r = 0\n",
        "            n = n + 1\n",
        "          else:\n",
        "            r = r + 1\n",
        "            n = n + 1\n",
        "\n",
        "\n",
        "\n",
        "        elif n%2 == 1: # 홀수면\n",
        "          #print('T3', c, n)\n",
        "          if c == columns-1:\n",
        "            c = 0\n",
        "            n = n + 1\n",
        "          else:\n",
        "            c = c + 1\n",
        "            n = n + 1\n",
        "    answer = d\n",
        "    return answer\n",
        "    #판떼기 출력\n",
        "    for i in range(0, rows):\n",
        "      for j in range(0, columns) : \n",
        "        print(d[i][j], end=' ')   \n",
        "      print()                  \n",
        "\n",
        "rows = 3\n",
        "columns = 4\n",
        "solution(rows,columns)"
      ],
      "execution_count": 13,
      "outputs": [
        {
          "output_type": "stream",
          "name": "stdout",
          "text": [
            "[[0, 0, 0, 0], [0, 0, 0, 0], [0, 0, 0, 0]]\n"
          ]
        },
        {
          "output_type": "execute_result",
          "data": {
            "text/plain": [
              "[[8, 2, 13, 14], [16, 10, 4, 15], [17, 11, 12, 6]]"
            ]
          },
          "metadata": {},
          "execution_count": 13
        }
      ]
    },
    {
      "cell_type": "code",
      "metadata": {
        "colab": {
          "base_uri": "https://localhost:8080/",
          "height": 35
        },
        "id": "3b7ukvXY2oGq",
        "outputId": "c0f336a3-1436-40b9-8511-a406a2d89d6b"
      },
      "source": [
        "def solution(time, plans):\n",
        "    def to_int(time):\n",
        "      h = time[:-2]\n",
        "      h = int(h)\n",
        "      if time[-2:]=='PM':\n",
        "        h = h+12\n",
        "      return h\n",
        "    for s in plans:\n",
        "      a = 0\n",
        "      for k in s:\n",
        "        a = a+1\n",
        "        #print(k,a)\n",
        "        if a == 2: # 출발시간\n",
        "          if not to_int('6PM') <= to_int(k): # 퇴근시간보다 늦게 출발\n",
        "            time = time - (to_int('6PM') - to_int(k))\n",
        "\n",
        "        if a == 3: # 도착시간\n",
        "          if not to_int('1PM') >= to_int(k): # 출근시간보다 빨리 도착\n",
        "            time = time - (to_int(k) - to_int('1PM'))\n",
        "      if time >= 0:\n",
        "        #print(s[0])\n",
        "        answer = s[0]\n",
        "        return answer\n",
        "\n",
        "time = 3.5\n",
        "plans = [ [\"홍콩\", \"11PM\", \"9AM\"], [\"엘에이\", \"3PM\", \"2PM\"] ]\n",
        "solution(time,plans)"
      ],
      "execution_count": 1,
      "outputs": [
        {
          "output_type": "execute_result",
          "data": {
            "application/vnd.google.colaboratory.intrinsic+json": {
              "type": "string"
            },
            "text/plain": [
              "'홍콩'"
            ]
          },
          "metadata": {},
          "execution_count": 1
        }
      ]
    },
    {
      "cell_type": "code",
      "metadata": {
        "colab": {
          "base_uri": "https://localhost:8080/"
        },
        "id": "hLr1hbJr3F1n",
        "outputId": "0a4a9592-5367-4045-e494-e57893d553d1"
      },
      "source": [
        "def solution(grid, clockwise):\n",
        "    answer = []\n",
        "    d = []\n",
        "    a = 1\n",
        "    b = 0\n",
        "    # 1, 3, 5, 7, 9 로 증가\n",
        "    while a <= (len(grid)*2-1):\n",
        "      print(a)\n",
        "      if a = 5, #grid[2][0],grid [2][2] grid [2][1] grid [1][1], grid[2][4], grid[2][3] grid[1][2] grid [1][1] grid [0][0]\n",
        "\n",
        "      \n",
        "\n",
        "\n",
        "      a = a+2\n",
        "    \n",
        "    return answer\n",
        "\n",
        "\n",
        "\n",
        "\n",
        "\n",
        "grid = [\"1\",\"234\",\"56789\"]\n",
        "clockwise = 'true'\n",
        "solution(grid,clockwise)"
      ],
      "execution_count": null,
      "outputs": [
        {
          "output_type": "stream",
          "name": "stdout",
          "text": [
            "1\n",
            "3\n",
            "5\n"
          ]
        },
        {
          "output_type": "execute_result",
          "data": {
            "text/plain": [
              "[]"
            ]
          },
          "metadata": {},
          "execution_count": 188
        }
      ]
    },
    {
      "cell_type": "code",
      "metadata": {
        "colab": {
          "base_uri": "https://localhost:8080/"
        },
        "id": "6ZGaRsur2uDC",
        "outputId": "ce12b0da-8284-4c70-aa38-6ddac0bbdc15"
      },
      "source": [
        "def solution(grid, clockwise):\n",
        "    answer = []\n",
        "    d = []\n",
        "    a = 1\n",
        "    # 1, 3, 5, 7, 9 로 증가\n",
        "    # grid[2][0] / grid [2][2] grid [2][1] grid [1][0] / grid[2][4] grid[2][3] grid[1][2] grid [1][1] grid [0][0]\n",
        "    for i in range(len(grid),-a,-1):\n",
        "      for e in range(i,-a,-1):\n",
        "        print(i,e)\n",
        "      a = a + 1\n",
        "    return answer\n",
        "\n",
        "\n",
        "\n",
        "\n",
        "\n",
        "grid = [\"1\",\"234\",\"56789\"]\n",
        "clockwise = 'true'\n",
        "solution(grid,clockwise)"
      ],
      "execution_count": null,
      "outputs": [
        {
          "output_type": "stream",
          "name": "stdout",
          "text": [
            "3 3\n",
            "3 2\n",
            "3 1\n",
            "3 0\n",
            "2 2\n",
            "2 1\n",
            "2 0\n",
            "2 -1\n",
            "1 1\n",
            "1 0\n",
            "1 -1\n",
            "1 -2\n",
            "0 0\n",
            "0 -1\n",
            "0 -2\n",
            "0 -3\n"
          ]
        },
        {
          "output_type": "execute_result",
          "data": {
            "text/plain": [
              "[]"
            ]
          },
          "metadata": {},
          "execution_count": 200
        }
      ]
    },
    {
      "cell_type": "code",
      "metadata": {
        "id": "D-pYtxAZBtVS"
      },
      "source": [
        ""
      ],
      "execution_count": null,
      "outputs": []
    }
  ]
}